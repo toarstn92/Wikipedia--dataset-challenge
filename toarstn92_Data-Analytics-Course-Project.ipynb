{
 "cells": [
  {
   "cell_type": "markdown",
   "id": "f9c52ebc-fafe-4c32-978f-678134111536",
   "metadata": {
    "tags": []
   },
   "source": [
    "# **Data Analytics Course Project**"
   ]
  },
  {
   "cell_type": "code",
   "execution_count": 2,
   "id": "b196f281-96a5-4a1c-acab-41c0e5951f3c",
   "metadata": {},
   "outputs": [],
   "source": [
    "# import libraries\n",
    "\n",
    "import pandas as pd\n",
    "import sqlite3\n",
    "\n",
    "import warnings\n",
    "warnings.filterwarnings('ignore')"
   ]
  },
  {
   "cell_type": "markdown",
   "id": "65513dc8-5f65-4f9a-a7d0-21eb652e2bea",
   "metadata": {
    "jp-MarkdownHeadingCollapsed": true,
    "tags": []
   },
   "source": [
    "## **Familiarise with the dataset**"
   ]
  },
  {
   "cell_type": "code",
   "execution_count": 3,
   "id": "73727305-5906-4c55-809f-b4447a69b5fb",
   "metadata": {},
   "outputs": [],
   "source": [
    "df = pd.read_excel('wikipedia_dataset.xlsx')"
   ]
  },
  {
   "cell_type": "code",
   "execution_count": 4,
   "id": "f93a0318-2d87-41dd-b318-de4da8dbc779",
   "metadata": {},
   "outputs": [
    {
     "name": "stdout",
     "output_type": "stream",
     "text": [
      " There are 1500 rows and 367 columns\n"
     ]
    },
    {
     "data": {
      "text/html": [
       "<div>\n",
       "<style scoped>\n",
       "    .dataframe tbody tr th:only-of-type {\n",
       "        vertical-align: middle;\n",
       "    }\n",
       "\n",
       "    .dataframe tbody tr th {\n",
       "        vertical-align: top;\n",
       "    }\n",
       "\n",
       "    .dataframe thead th {\n",
       "        text-align: right;\n",
       "    }\n",
       "</style>\n",
       "<table border=\"1\" class=\"dataframe\">\n",
       "  <thead>\n",
       "    <tr style=\"text-align: right;\">\n",
       "      <th></th>\n",
       "      <th>Page</th>\n",
       "      <th>2016-01-01 00:00:00</th>\n",
       "      <th>2016-01-02 00:00:00</th>\n",
       "      <th>2016-01-03 00:00:00</th>\n",
       "      <th>2016-01-04 00:00:00</th>\n",
       "      <th>2016-01-05 00:00:00</th>\n",
       "      <th>2016-01-06 00:00:00</th>\n",
       "      <th>2016-01-07 00:00:00</th>\n",
       "      <th>2016-01-08 00:00:00</th>\n",
       "      <th>2016-01-09 00:00:00</th>\n",
       "      <th>...</th>\n",
       "      <th>2016-12-22 00:00:00</th>\n",
       "      <th>2016-12-23 00:00:00</th>\n",
       "      <th>2016-12-24 00:00:00</th>\n",
       "      <th>2016-12-25 00:00:00</th>\n",
       "      <th>2016-12-26 00:00:00</th>\n",
       "      <th>2016-12-27 00:00:00</th>\n",
       "      <th>2016-12-28 00:00:00</th>\n",
       "      <th>2016-12-29 00:00:00</th>\n",
       "      <th>2016-12-30 00:00:00</th>\n",
       "      <th>2016-12-31 00:00:00</th>\n",
       "    </tr>\n",
       "  </thead>\n",
       "  <tbody>\n",
       "    <tr>\n",
       "      <th>0</th>\n",
       "      <td>.xxx_en.wikipedia.org_all-access_all-agents</td>\n",
       "      <td>7089</td>\n",
       "      <td>7592</td>\n",
       "      <td>7436</td>\n",
       "      <td>7032</td>\n",
       "      <td>6498</td>\n",
       "      <td>6887</td>\n",
       "      <td>7209</td>\n",
       "      <td>7022</td>\n",
       "      <td>7194</td>\n",
       "      <td>...</td>\n",
       "      <td>4931.0</td>\n",
       "      <td>4034.0</td>\n",
       "      <td>5204.0</td>\n",
       "      <td>4331.0</td>\n",
       "      <td>4572.0</td>\n",
       "      <td>4509.0</td>\n",
       "      <td>5392.0</td>\n",
       "      <td>4950.0</td>\n",
       "      <td>2931.0</td>\n",
       "      <td>4101.0</td>\n",
       "    </tr>\n",
       "    <tr>\n",
       "      <th>1</th>\n",
       "      <td>.xxx_en.wikipedia.org_mobile-web_all-agents</td>\n",
       "      <td>6182</td>\n",
       "      <td>6447</td>\n",
       "      <td>6437</td>\n",
       "      <td>5912</td>\n",
       "      <td>5205</td>\n",
       "      <td>5770</td>\n",
       "      <td>5998</td>\n",
       "      <td>5948</td>\n",
       "      <td>6165</td>\n",
       "      <td>...</td>\n",
       "      <td>4617.0</td>\n",
       "      <td>3663.0</td>\n",
       "      <td>4882.0</td>\n",
       "      <td>4028.0</td>\n",
       "      <td>4263.0</td>\n",
       "      <td>4176.0</td>\n",
       "      <td>5068.0</td>\n",
       "      <td>4539.0</td>\n",
       "      <td>2666.0</td>\n",
       "      <td>3754.0</td>\n",
       "    </tr>\n",
       "  </tbody>\n",
       "</table>\n",
       "<p>2 rows × 367 columns</p>\n",
       "</div>"
      ],
      "text/plain": [
       "                                          Page  2016-01-01 00:00:00  \\\n",
       "0  .xxx_en.wikipedia.org_all-access_all-agents                 7089   \n",
       "1  .xxx_en.wikipedia.org_mobile-web_all-agents                 6182   \n",
       "\n",
       "   2016-01-02 00:00:00  2016-01-03 00:00:00  2016-01-04 00:00:00  \\\n",
       "0                 7592                 7436                 7032   \n",
       "1                 6447                 6437                 5912   \n",
       "\n",
       "   2016-01-05 00:00:00  2016-01-06 00:00:00  2016-01-07 00:00:00  \\\n",
       "0                 6498                 6887                 7209   \n",
       "1                 5205                 5770                 5998   \n",
       "\n",
       "   2016-01-08 00:00:00  2016-01-09 00:00:00  ...  2016-12-22 00:00:00  \\\n",
       "0                 7022                 7194  ...               4931.0   \n",
       "1                 5948                 6165  ...               4617.0   \n",
       "\n",
       "   2016-12-23 00:00:00  2016-12-24 00:00:00  2016-12-25 00:00:00  \\\n",
       "0               4034.0               5204.0               4331.0   \n",
       "1               3663.0               4882.0               4028.0   \n",
       "\n",
       "   2016-12-26 00:00:00  2016-12-27 00:00:00  2016-12-28 00:00:00  \\\n",
       "0               4572.0               4509.0               5392.0   \n",
       "1               4263.0               4176.0               5068.0   \n",
       "\n",
       "   2016-12-29 00:00:00  2016-12-30 00:00:00  2016-12-31 00:00:00  \n",
       "0               4950.0               2931.0               4101.0  \n",
       "1               4539.0               2666.0               3754.0  \n",
       "\n",
       "[2 rows x 367 columns]"
      ]
     },
     "execution_count": 4,
     "metadata": {},
     "output_type": "execute_result"
    }
   ],
   "source": [
    "print(f' There are {df.shape[0]} rows and {df.shape[1]} columns')\n",
    "df.head(2)"
   ]
  },
  {
   "cell_type": "code",
   "execution_count": 5,
   "id": "afd5e4c2-a962-41ca-8857-4bd8f1da6fd1",
   "metadata": {},
   "outputs": [
    {
     "data": {
      "text/plain": [
       "87"
      ]
     },
     "execution_count": 5,
     "metadata": {},
     "output_type": "execute_result"
    }
   ],
   "source": [
    "df.isnull().sum().sum()"
   ]
  },
  {
   "cell_type": "markdown",
   "id": "aedb8e98-ad63-4055-a471-849abf870983",
   "metadata": {},
   "source": [
    "*87 NULL values indicating no visits 87 times across the dataset*"
   ]
  },
  {
   "cell_type": "code",
   "execution_count": 7,
   "id": "725fa658-a2f5-414a-936d-261ee90e0cea",
   "metadata": {},
   "outputs": [
    {
     "name": "stdout",
     "output_type": "stream",
     "text": [
      " There are 2 rows and 367 columns\n",
      "                                                   Page  2016-01-01 00:00:00  \\\n",
      "38    ã‚¬ãƒ¼ã‚¼ã‚ªãƒ¼ãƒž_ja.wikipedia.org_all-access...                    5   \n",
      "1419  User:GoogleAnalitycsRoman/google-api_en.wikipe...                40324   \n",
      "\n",
      "      2016-01-02 00:00:00  2016-01-03 00:00:00  2016-01-04 00:00:00  \\\n",
      "38                      3                    4                    5   \n",
      "1419                66391                48806               219804   \n",
      "\n",
      "      2016-01-05 00:00:00  2016-01-06 00:00:00  2016-01-07 00:00:00  \\\n",
      "38                     21                    9                   19   \n",
      "1419               243016               215221               234044   \n",
      "\n",
      "      2016-01-08 00:00:00  2016-01-09 00:00:00  ...  2016-12-22 00:00:00  \\\n",
      "38                      7                    9  ...                189.0   \n",
      "1419               215551                92019  ...                  NaN   \n",
      "\n",
      "      2016-12-23 00:00:00  2016-12-24 00:00:00  2016-12-25 00:00:00  \\\n",
      "38                  190.0                149.0                119.0   \n",
      "1419                  NaN                  NaN                  NaN   \n",
      "\n",
      "      2016-12-26 00:00:00  2016-12-27 00:00:00  2016-12-28 00:00:00  \\\n",
      "38                  145.0                108.0                 87.0   \n",
      "1419                  NaN                  NaN                  NaN   \n",
      "\n",
      "      2016-12-29 00:00:00  2016-12-30 00:00:00  2016-12-31 00:00:00  \n",
      "38                   90.0                 97.0                 63.0  \n",
      "1419                  NaN                  NaN                  NaN  \n",
      "\n",
      "[2 rows x 367 columns]\n"
     ]
    }
   ],
   "source": [
    "# ivestigate rows with null values\n",
    "\n",
    "dfnull = df[df.isnull().any(axis=1)]\n",
    "print(f' There are {dfnull.shape[0]} rows and {dfnull.shape[1]} columns')\n",
    "print (dfnull)"
   ]
  },
  {
   "cell_type": "markdown",
   "id": "f33cb780-1a3d-4144-bb01-efa106f58e45",
   "metadata": {},
   "source": [
    "*Rows 38 and 1419 contain NULL values*"
   ]
  },
  {
   "cell_type": "markdown",
   "id": "8806f9aa-43fd-4c01-893a-82a316da9c2b",
   "metadata": {
    "jp-MarkdownHeadingCollapsed": true,
    "tags": []
   },
   "source": [
    "## **Transforming data using Power BI**\n",
    "\n",
    "- Convert to time series data\n",
    "- Create new variables from existing information\n",
    "    - FROM Page (Search_topic, language_ID, Device_type)\n",
    "    - FROM Date (Day of Month, Month, Year, Weekday)\n",
    "- Create new table \"languages\" to show definition of \"language_ID\"\n",
    "- Export each table as csv file"
   ]
  },
  {
   "cell_type": "markdown",
   "id": "fe32f684-f313-4a85-8fb5-b23ea1753da2",
   "metadata": {
    "jp-MarkdownHeadingCollapsed": true,
    "tags": []
   },
   "source": [
    "## **Familiarise with the transformed dataset**"
   ]
  },
  {
   "cell_type": "code",
   "execution_count": 8,
   "id": "b5a39435-6f11-4955-ba5f-5691a09e0a14",
   "metadata": {},
   "outputs": [
    {
     "name": "stdout",
     "output_type": "stream",
     "text": [
      " There are 549000 rows and 12 columns\n"
     ]
    },
    {
     "data": {
      "text/html": [
       "<div>\n",
       "<style scoped>\n",
       "    .dataframe tbody tr th:only-of-type {\n",
       "        vertical-align: middle;\n",
       "    }\n",
       "\n",
       "    .dataframe tbody tr th {\n",
       "        vertical-align: top;\n",
       "    }\n",
       "\n",
       "    .dataframe thead th {\n",
       "        text-align: right;\n",
       "    }\n",
       "</style>\n",
       "<table border=\"1\" class=\"dataframe\">\n",
       "  <thead>\n",
       "    <tr style=\"text-align: right;\">\n",
       "      <th></th>\n",
       "      <th>Page</th>\n",
       "      <th>Date</th>\n",
       "      <th>Webpage Visits</th>\n",
       "      <th>Month</th>\n",
       "      <th>Month Name</th>\n",
       "      <th>Day of Month</th>\n",
       "      <th>Weekday</th>\n",
       "      <th>Search_topic</th>\n",
       "      <th>language_ID</th>\n",
       "      <th>Device_type</th>\n",
       "      <th>Year</th>\n",
       "      <th>Weekday_ID</th>\n",
       "    </tr>\n",
       "  </thead>\n",
       "  <tbody>\n",
       "    <tr>\n",
       "      <th>0</th>\n",
       "      <td>.xxx_en.wikipedia.org_all-access_all-agents</td>\n",
       "      <td>2016-01-01 00:00:00.000</td>\n",
       "      <td>7089</td>\n",
       "      <td>1</td>\n",
       "      <td>January</td>\n",
       "      <td>1</td>\n",
       "      <td>Friday</td>\n",
       "      <td>.xxx</td>\n",
       "      <td>en</td>\n",
       "      <td>all access</td>\n",
       "      <td>2016</td>\n",
       "      <td>6</td>\n",
       "    </tr>\n",
       "    <tr>\n",
       "      <th>1</th>\n",
       "      <td>2014_FIFA_World_Cup_en.wikipedia.org_all-acces...</td>\n",
       "      <td>2016-01-01 00:00:00.000</td>\n",
       "      <td>5363</td>\n",
       "      <td>1</td>\n",
       "      <td>January</td>\n",
       "      <td>1</td>\n",
       "      <td>Friday</td>\n",
       "      <td>2014_FIFA_World_Cup</td>\n",
       "      <td>en</td>\n",
       "      <td>all access</td>\n",
       "      <td>2016</td>\n",
       "      <td>6</td>\n",
       "    </tr>\n",
       "  </tbody>\n",
       "</table>\n",
       "</div>"
      ],
      "text/plain": [
       "                                                Page                     Date  \\\n",
       "0        .xxx_en.wikipedia.org_all-access_all-agents  2016-01-01 00:00:00.000   \n",
       "1  2014_FIFA_World_Cup_en.wikipedia.org_all-acces...  2016-01-01 00:00:00.000   \n",
       "\n",
       "   Webpage Visits  Month Month Name  Day of Month Weekday  \\\n",
       "0            7089      1    January             1  Friday   \n",
       "1            5363      1    January             1  Friday   \n",
       "\n",
       "          Search_topic language_ID Device_type  Year  Weekday_ID  \n",
       "0                 .xxx          en  all access  2016           6  \n",
       "1  2014_FIFA_World_Cup          en  all access  2016           6  "
      ]
     },
     "execution_count": 8,
     "metadata": {},
     "output_type": "execute_result"
    }
   ],
   "source": [
    "wikipedia_dataset = pd.read_csv(\"toarstn92_wikipedia_dataset.csv\")\n",
    "print(f' There are {wikipedia_dataset.shape[0]} rows and {wikipedia_dataset.shape[1]} columns')\n",
    "wikipedia_dataset.head(2)"
   ]
  },
  {
   "cell_type": "code",
   "execution_count": 9,
   "id": "1b5ea2ec-4cc7-46f3-b6f7-dd581ce2eee2",
   "metadata": {},
   "outputs": [
    {
     "name": "stdout",
     "output_type": "stream",
     "text": [
      " There are 183 rows and 3 columns\n"
     ]
    },
    {
     "data": {
      "text/html": [
       "<div>\n",
       "<style scoped>\n",
       "    .dataframe tbody tr th:only-of-type {\n",
       "        vertical-align: middle;\n",
       "    }\n",
       "\n",
       "    .dataframe tbody tr th {\n",
       "        vertical-align: top;\n",
       "    }\n",
       "\n",
       "    .dataframe thead th {\n",
       "        text-align: right;\n",
       "    }\n",
       "</style>\n",
       "<table border=\"1\" class=\"dataframe\">\n",
       "  <thead>\n",
       "    <tr style=\"text-align: right;\">\n",
       "      <th></th>\n",
       "      <th>language_id</th>\n",
       "      <th>ISO language name</th>\n",
       "      <th>Notes</th>\n",
       "    </tr>\n",
       "  </thead>\n",
       "  <tbody>\n",
       "    <tr>\n",
       "      <th>0</th>\n",
       "      <td>aa</td>\n",
       "      <td>Afar</td>\n",
       "      <td>NaN</td>\n",
       "    </tr>\n",
       "    <tr>\n",
       "      <th>1</th>\n",
       "      <td>af</td>\n",
       "      <td>Afrikaans</td>\n",
       "      <td>NaN</td>\n",
       "    </tr>\n",
       "  </tbody>\n",
       "</table>\n",
       "</div>"
      ],
      "text/plain": [
       "  language_id ISO language name Notes\n",
       "0          aa              Afar   NaN\n",
       "1          af         Afrikaans   NaN"
      ]
     },
     "execution_count": 9,
     "metadata": {},
     "output_type": "execute_result"
    }
   ],
   "source": [
    "languages = pd.read_csv(\"toarstn92_languages.csv\")\n",
    "print(f' There are {languages.shape[0]} rows and {languages.shape[1]} columns')\n",
    "languages. head(2)"
   ]
  },
  {
   "cell_type": "markdown",
   "id": "ace01190-770d-4ab1-b218-2f5faa343b53",
   "metadata": {
    "jp-MarkdownHeadingCollapsed": true,
    "tags": []
   },
   "source": [
    "## **Creating db file using DB Browser (SQLite)**\n",
    "\n",
    "- Import csv files as table in new database"
   ]
  },
  {
   "cell_type": "markdown",
   "id": "2511b62a-e05f-4306-8e3a-5bdc65829979",
   "metadata": {
    "jp-MarkdownHeadingCollapsed": true,
    "tags": []
   },
   "source": [
    "## **Connecting to SQL server database**\n",
    "\n",
    "Install some dependencie\n",
    " - Running on the Notebook;\n",
    "      - `pip install sqlalchemy`\n",
    "      - `pip install ipython-sql`\n",
    "      - `pip install pymysql`\n",
    "\n",
    "\n",
    " - Running on Google Colab (For each notebook); \n",
    "      - `pip install pymysql`"
   ]
  },
  {
   "cell_type": "code",
   "execution_count": 17,
   "id": "3d351f9b-ac55-4f5a-a9d8-9e415f2ee6ae",
   "metadata": {},
   "outputs": [],
   "source": [
    "# SQL magic command\n",
    "\n",
    "%load_ext sql"
   ]
  },
  {
   "cell_type": "code",
   "execution_count": 23,
   "id": "a81b5db2-6b47-42d2-943f-c1717122e284",
   "metadata": {},
   "outputs": [],
   "source": [
    "# Load SQLite database\n",
    "\n",
    "%sql sqlite:///toarstn92_wikipedia.db"
   ]
  },
  {
   "cell_type": "markdown",
   "id": "9fb5000a-b9c6-408a-86b4-d11dcd9e2e23",
   "metadata": {
    "jp-MarkdownHeadingCollapsed": true,
    "tags": []
   },
   "source": [
    "## **Familiarise with the database**"
   ]
  },
  {
   "cell_type": "code",
   "execution_count": 148,
   "id": "05f592d3-0ca8-4f7e-8d83-6b86959d5150",
   "metadata": {},
   "outputs": [
    {
     "name": "stdout",
     "output_type": "stream",
     "text": [
      " * sqlite:///toarstn92_wikipedia.db\n",
      "Done.\n"
     ]
    },
    {
     "data": {
      "text/html": [
       "<table>\n",
       "    <tr>\n",
       "        <th>name</th>\n",
       "    </tr>\n",
       "    <tr>\n",
       "        <td>DeviceType2</td>\n",
       "    </tr>\n",
       "    <tr>\n",
       "        <td>SearchTopic2</td>\n",
       "    </tr>\n",
       "    <tr>\n",
       "        <td>languages1</td>\n",
       "    </tr>\n",
       "    <tr>\n",
       "        <td>languages2</td>\n",
       "    </tr>\n",
       "    <tr>\n",
       "        <td>month2</td>\n",
       "    </tr>\n",
       "    <tr>\n",
       "        <td>sqlite_sequence</td>\n",
       "    </tr>\n",
       "    <tr>\n",
       "        <td>toarstn92_languages</td>\n",
       "    </tr>\n",
       "    <tr>\n",
       "        <td>toarstn92_wikipedia_dataset</td>\n",
       "    </tr>\n",
       "    <tr>\n",
       "        <td>week2</td>\n",
       "    </tr>\n",
       "    <tr>\n",
       "        <td>wikipedia_dataset1</td>\n",
       "    </tr>\n",
       "    <tr>\n",
       "        <td>wikipedia_dataset2</td>\n",
       "    </tr>\n",
       "</table>"
      ],
      "text/plain": [
       "[('DeviceType2',),\n",
       " ('SearchTopic2',),\n",
       " ('languages1',),\n",
       " ('languages2',),\n",
       " ('month2',),\n",
       " ('sqlite_sequence',),\n",
       " ('toarstn92_languages',),\n",
       " ('toarstn92_wikipedia_dataset',),\n",
       " ('week2',),\n",
       " ('wikipedia_dataset1',),\n",
       " ('wikipedia_dataset2',)]"
      ]
     },
     "execution_count": 148,
     "metadata": {},
     "output_type": "execute_result"
    }
   ],
   "source": [
    "%%sql\n",
    "\n",
    "SELECT name\n",
    "FROM sqlite_schema\n",
    "WHERE type='table'\n",
    "ORDER BY name;"
   ]
  },
  {
   "cell_type": "code",
   "execution_count": 26,
   "id": "7005acc4-acef-454a-a27d-0da404f402aa",
   "metadata": {},
   "outputs": [
    {
     "name": "stdout",
     "output_type": "stream",
     "text": [
      " * sqlite:///toarstn92_wikipedia.db\n",
      "Done.\n"
     ]
    },
    {
     "data": {
      "text/html": [
       "<table>\n",
       "    <tr>\n",
       "        <th>cid</th>\n",
       "        <th>name</th>\n",
       "        <th>type</th>\n",
       "        <th>notnull</th>\n",
       "        <th>dflt_value</th>\n",
       "        <th>pk</th>\n",
       "    </tr>\n",
       "    <tr>\n",
       "        <td>0</td>\n",
       "        <td>Page</td>\n",
       "        <td>TEXT</td>\n",
       "        <td>0</td>\n",
       "        <td>None</td>\n",
       "        <td>0</td>\n",
       "    </tr>\n",
       "    <tr>\n",
       "        <td>1</td>\n",
       "        <td>Date</td>\n",
       "        <td>TEXT</td>\n",
       "        <td>0</td>\n",
       "        <td>None</td>\n",
       "        <td>0</td>\n",
       "    </tr>\n",
       "    <tr>\n",
       "        <td>2</td>\n",
       "        <td>WebpageVisits</td>\n",
       "        <td>INTEGER</td>\n",
       "        <td>0</td>\n",
       "        <td>None</td>\n",
       "        <td>0</td>\n",
       "    </tr>\n",
       "    <tr>\n",
       "        <td>3</td>\n",
       "        <td>Month</td>\n",
       "        <td>INTEGER</td>\n",
       "        <td>0</td>\n",
       "        <td>None</td>\n",
       "        <td>0</td>\n",
       "    </tr>\n",
       "    <tr>\n",
       "        <td>4</td>\n",
       "        <td>MonthName</td>\n",
       "        <td>TEXT</td>\n",
       "        <td>0</td>\n",
       "        <td>None</td>\n",
       "        <td>0</td>\n",
       "    </tr>\n",
       "    <tr>\n",
       "        <td>5</td>\n",
       "        <td>DayofMonth</td>\n",
       "        <td>INTEGER</td>\n",
       "        <td>0</td>\n",
       "        <td>None</td>\n",
       "        <td>0</td>\n",
       "    </tr>\n",
       "    <tr>\n",
       "        <td>6</td>\n",
       "        <td>Weekday</td>\n",
       "        <td>TEXT</td>\n",
       "        <td>0</td>\n",
       "        <td>None</td>\n",
       "        <td>0</td>\n",
       "    </tr>\n",
       "    <tr>\n",
       "        <td>7</td>\n",
       "        <td>Search_topic</td>\n",
       "        <td>TEXT</td>\n",
       "        <td>0</td>\n",
       "        <td>None</td>\n",
       "        <td>0</td>\n",
       "    </tr>\n",
       "    <tr>\n",
       "        <td>8</td>\n",
       "        <td>language_ID</td>\n",
       "        <td>TEXT</td>\n",
       "        <td>0</td>\n",
       "        <td>None</td>\n",
       "        <td>0</td>\n",
       "    </tr>\n",
       "    <tr>\n",
       "        <td>9</td>\n",
       "        <td>Device_type</td>\n",
       "        <td>TEXT</td>\n",
       "        <td>0</td>\n",
       "        <td>None</td>\n",
       "        <td>0</td>\n",
       "    </tr>\n",
       "    <tr>\n",
       "        <td>10</td>\n",
       "        <td>Year</td>\n",
       "        <td>INTEGER</td>\n",
       "        <td>0</td>\n",
       "        <td>None</td>\n",
       "        <td>0</td>\n",
       "    </tr>\n",
       "    <tr>\n",
       "        <td>11</td>\n",
       "        <td>Weekday_ID</td>\n",
       "        <td>INTEGER</td>\n",
       "        <td>0</td>\n",
       "        <td>None</td>\n",
       "        <td>0</td>\n",
       "    </tr>\n",
       "</table>"
      ],
      "text/plain": [
       "[(0, 'Page', 'TEXT', 0, None, 0),\n",
       " (1, 'Date', 'TEXT', 0, None, 0),\n",
       " (2, 'WebpageVisits', 'INTEGER', 0, None, 0),\n",
       " (3, 'Month', 'INTEGER', 0, None, 0),\n",
       " (4, 'MonthName', 'TEXT', 0, None, 0),\n",
       " (5, 'DayofMonth', 'INTEGER', 0, None, 0),\n",
       " (6, 'Weekday', 'TEXT', 0, None, 0),\n",
       " (7, 'Search_topic', 'TEXT', 0, None, 0),\n",
       " (8, 'language_ID', 'TEXT', 0, None, 0),\n",
       " (9, 'Device_type', 'TEXT', 0, None, 0),\n",
       " (10, 'Year', 'INTEGER', 0, None, 0),\n",
       " (11, 'Weekday_ID', 'INTEGER', 0, None, 0)]"
      ]
     },
     "execution_count": 26,
     "metadata": {},
     "output_type": "execute_result"
    }
   ],
   "source": [
    "%%sql\n",
    "\n",
    "PRAGMA table_info(toarstn92_wikipedia_dataset)"
   ]
  },
  {
   "cell_type": "code",
   "execution_count": 153,
   "id": "10cc8f1f-7595-4284-83f4-e77096a3038b",
   "metadata": {},
   "outputs": [
    {
     "name": "stdout",
     "output_type": "stream",
     "text": [
      " * sqlite:///toarstn92_wikipedia.db\n",
      "Done.\n"
     ]
    },
    {
     "data": {
      "text/html": [
       "<table>\n",
       "    <tr>\n",
       "        <th>WeekdayID</th>\n",
       "        <th>Weekday</th>\n",
       "    </tr>\n",
       "    <tr>\n",
       "        <td>1</td>\n",
       "        <td>Sunday</td>\n",
       "    </tr>\n",
       "    <tr>\n",
       "        <td>2</td>\n",
       "        <td>Monday</td>\n",
       "    </tr>\n",
       "    <tr>\n",
       "        <td>3</td>\n",
       "        <td>Tuesday</td>\n",
       "    </tr>\n",
       "    <tr>\n",
       "        <td>4</td>\n",
       "        <td>Wednesday</td>\n",
       "    </tr>\n",
       "    <tr>\n",
       "        <td>5</td>\n",
       "        <td>Thursday</td>\n",
       "    </tr>\n",
       "</table>"
      ],
      "text/plain": [
       "[(1, 'Sunday'),\n",
       " (2, 'Monday'),\n",
       " (3, 'Tuesday'),\n",
       " (4, 'Wednesday'),\n",
       " (5, 'Thursday')]"
      ]
     },
     "execution_count": 153,
     "metadata": {},
     "output_type": "execute_result"
    }
   ],
   "source": [
    "%%sql\n",
    "\n",
    "SELECT *\n",
    "FROM week2\n",
    "LIMIT 5;"
   ]
  },
  {
   "cell_type": "markdown",
   "id": "e50ab201-2d40-477c-b0f1-d1c00fc0a53b",
   "metadata": {
    "jp-MarkdownHeadingCollapsed": true,
    "tags": []
   },
   "source": [
    "## **Normalising database**"
   ]
  },
  {
   "cell_type": "code",
   "execution_count": 28,
   "id": "0d415bc4-e701-40e6-a748-44a5f4b1b923",
   "metadata": {},
   "outputs": [
    {
     "name": "stdout",
     "output_type": "stream",
     "text": [
      " * sqlite:///toarstn92_wikipedia.db\n",
      "Done.\n",
      "Done.\n",
      "Done.\n",
      "Done.\n"
     ]
    },
    {
     "data": {
      "text/plain": [
       "[]"
      ]
     },
     "execution_count": 28,
     "metadata": {},
     "output_type": "execute_result"
    }
   ],
   "source": [
    "%%sql\n",
    "\n",
    "--DO NOT EDIT THIS CELL\n",
    "\n",
    "DROP TABLE IF EXISTS \"wikipedia_dataset1\";\n",
    "DROP TABLE IF EXISTS \"languages1\";\n",
    "\n",
    "CREATE TABLE \"languages1\" (\n",
    "    \"languageID\" VARCHAR(150),\n",
    "    \"LanguageName\" VARCHAR(150),\n",
    "    \"Notes\" VARCHAR(150),\n",
    "    PRIMARY KEY (\"languageID\")\n",
    ");\n",
    "\n",
    "CREATE TABLE \"wikipedia_dataset1\" (\n",
    "    \"SearchID\" INTEGER NOT NULL,\n",
    "    \"Page\" VARCHAR(150),\n",
    "    \"Date\" NUMERIC,\n",
    "    \"Year\"  INTEGER,\n",
    "    \"Month\"  INTEGER,\n",
    "    \"MonthName\" VARCHAR(150),\n",
    "    \"DayOfMonth\" INTEGER,\n",
    "    \"WeekdayID\" INTEGER,\n",
    "    \"Weekday\" VARCHAR(150),\n",
    "    \"SearchTopic\" VARCHAR(150),\n",
    "    \"languageID\" VARCHAR(150),\n",
    "    \"DeviceType\" VARCHAR(150),\n",
    "    \"WebpageVisits\" INTEGER,\n",
    "    PRIMARY KEY(\"SearchID\" AUTOINCREMENT),\n",
    "    FOREIGN KEY (\"languageID\") REFERENCES \"languages1\" (\"languageID\")\n",
    ");"
   ]
  },
  {
   "cell_type": "code",
   "execution_count": 30,
   "id": "c287a1d2-198c-441e-86b8-e45ad057dabc",
   "metadata": {},
   "outputs": [
    {
     "name": "stdout",
     "output_type": "stream",
     "text": [
      " * sqlite:///toarstn92_wikipedia.db\n",
      "Done.\n",
      "0 rows affected.\n",
      "549000 rows affected.\n",
      "183 rows affected.\n"
     ]
    },
    {
     "data": {
      "text/plain": [
       "[]"
      ]
     },
     "execution_count": 30,
     "metadata": {},
     "output_type": "execute_result"
    }
   ],
   "source": [
    "%%sql\n",
    "\n",
    "--DO NOT EDIT THIS CELL\n",
    "\n",
    "DELETE FROM \"wikipedia_dataset1\";\n",
    "DELETE FROM \"languages1\";\n",
    "\n",
    "INSERT INTO \"wikipedia_dataset1\" (\"Page\",\"Date\",\"Year\",\"Month\",\"MonthName\",\"DayOfMonth\",\"WeekdayID\",\"Weekday\",\"SearchTopic\",\"languageID\",\"DeviceType\",\"WebpageVisits\")\n",
    "SELECT\n",
    "    Page,\n",
    "    Date,\n",
    "    Year,\n",
    "    Month,\n",
    "    MonthName,\n",
    "    DayofMonth,\n",
    "    Weekday_ID,\n",
    "    Weekday,\n",
    "    Search_topic,\n",
    "    language_ID,\n",
    "    Device_type,\n",
    "    WebpageVisits \n",
    "FROM \n",
    "    toarstn92_wikipedia_dataset;\n",
    "\n",
    "INSERT INTO \"languages1\"(\"languageID\",\"LanguageName\", \"Notes\")\n",
    "SELECT DISTINCT \n",
    "    language_id,\n",
    "    ISOlanguagename,\n",
    "    Notes\n",
    "FROM\n",
    "    toarstn92_languages;"
   ]
  },
  {
   "cell_type": "code",
   "execution_count": 31,
   "id": "c9c8b5fd-9ef2-422f-bdd0-dadebe5b1cbe",
   "metadata": {},
   "outputs": [
    {
     "name": "stdout",
     "output_type": "stream",
     "text": [
      " * sqlite:///toarstn92_wikipedia.db\n",
      "Done.\n",
      "Done.\n",
      "Done.\n",
      "Done.\n",
      "Done.\n",
      "Done.\n",
      "Done.\n",
      "Done.\n",
      "Done.\n",
      "Done.\n",
      "Done.\n",
      "Done.\n"
     ]
    },
    {
     "data": {
      "text/plain": [
       "[]"
      ]
     },
     "execution_count": 31,
     "metadata": {},
     "output_type": "execute_result"
    }
   ],
   "source": [
    "%%sql\n",
    "\n",
    "--DO NOT EDIT THIS CELL\n",
    "\n",
    "DROP TABLE IF EXISTS \"wikipedia_dataset2\";\n",
    "DROP TABLE IF EXISTS \"languages2\";\n",
    "DROP TABLE IF EXISTS \"month2\";\n",
    "DROP TABLE IF EXISTS \"week2\";\n",
    "DROP TABLE IF EXISTS \"DeviceType2\";\n",
    "DROP TABLE IF EXISTS \"SearchTopic2\";\n",
    "\n",
    "\n",
    "CREATE TABLE \"languages2\" (\n",
    "    \"languageID\" VARCHAR(150),\n",
    "    \"LanguageName\" VARCHAR(150),\n",
    "    \"Notes\" VARCHAR(150),\n",
    "    PRIMARY KEY (\"languageID\")\n",
    ");\n",
    "\n",
    "CREATE TABLE \"wikipedia_dataset2\" (\n",
    "    \"SearchID\" INTEGER NOT NULL,\n",
    "    \"Page\" VARCHAR(150),\n",
    "    \"Date\" NUMERIC,\n",
    "    \"Year\"  INTEGER,\n",
    "    \"Month\"  INTEGER,\n",
    "    \"DayOfMonth\" INTEGER,\n",
    "    \"WeekdayID\" INTEGER,\n",
    "    \"SearchTopicID\" INTEGER,\n",
    "    \"languageID\" VARCHAR(150),\n",
    "    \"DeviceTypeID\" INTEGER,\n",
    "    \"WebpageVisits\" INTEGER,\n",
    "    PRIMARY KEY(\"SearchID\" AUTOINCREMENT),\n",
    "    CONSTRAINT fk_mon FOREIGN KEY (\"Month\") REFERENCES month2 (\"Month\"),\n",
    "    CONSTRAINT fk_wee FOREIGN KEY (\"WeekdayID\") REFERENCES week2 (\"WeekdayID\"),\n",
    "    CONSTRAINT fk_dev FOREIGN KEY (\"DeviceTypeID\") REFERENCES DeviceType2 (\"DeviceTypeID\"),\n",
    "    CONSTRAINT fk_sea FOREIGN KEY (\"SearchTopicID\") REFERENCES SearchTopic2 (\"SearchTopicID\"),\n",
    "    CONSTRAINT fk_lan FOREIGN KEY (\"languageID\") REFERENCES languages2 (\"languageID\")\n",
    ");\n",
    "\n",
    "CREATE TABLE \"month2\" (\n",
    "    \"Month\"  INTEGER NOT NULL,\n",
    "    \"MonthName\" VARCHAR(150),\n",
    "    PRIMARY KEY(\"Month\")\n",
    ");\n",
    "\n",
    "CREATE TABLE \"week2\" (\n",
    "    \"WeekdayID\"  INTEGER NOT NULL,\n",
    "    \"Weekday\" VARCHAR(150),\n",
    "    PRIMARY KEY(\"WeekdayID\")\n",
    ");\n",
    "\n",
    "CREATE TABLE \"DeviceType2\" (\n",
    "    \"DeviceTypeID\"  INTEGER NOT NULL,\n",
    "    \"DeviceType\" VARCHAR(150),\n",
    "    PRIMARY KEY(\"DeviceTypeID\" AUTOINCREMENT)\n",
    ");\n",
    "\n",
    "CREATE TABLE \"SearchTopic2\" (\n",
    "    \"SearchTopicID\"  INTEGER NOT NULL,\n",
    "    \"SearchTopic\" VARCHAR(150),\n",
    "    PRIMARY KEY(\"SearchTopicID\" AUTOINCREMENT)\n",
    ");"
   ]
  },
  {
   "cell_type": "code",
   "execution_count": 32,
   "id": "de6ca0c6-2264-4448-b38d-4e4aa486ca6c",
   "metadata": {},
   "outputs": [
    {
     "name": "stdout",
     "output_type": "stream",
     "text": [
      " * sqlite:///toarstn92_wikipedia.db\n",
      "Done.\n",
      "0 rows affected.\n",
      "0 rows affected.\n",
      "0 rows affected.\n",
      "0 rows affected.\n",
      "956 rows affected.\n",
      "5 rows affected.\n",
      "7 rows affected.\n",
      "12 rows affected.\n",
      "183 rows affected.\n"
     ]
    },
    {
     "data": {
      "text/plain": [
       "[]"
      ]
     },
     "execution_count": 32,
     "metadata": {},
     "output_type": "execute_result"
    }
   ],
   "source": [
    "%%sql\n",
    "\n",
    "--DO NOT EDIT THIS CELL\n",
    "\n",
    "DELETE FROM \"languages2\";\n",
    "DELETE FROM \"month2\";\n",
    "DELETE FROM \"week2\";\n",
    "DELETE FROM \"DeviceType2\";\n",
    "DELETE FROM \"SearchTopic2\";\n",
    "\n",
    "INSERT INTO \"SearchTopic2\"(\"SearchTopic\")\n",
    "SELECT DISTINCT \n",
    "    SearchTopic \n",
    "FROM\n",
    "    wikipedia_dataset1;\n",
    "    \n",
    "INSERT INTO \"DeviceType2\"(\"DeviceType\")\n",
    "SELECT DISTINCT \n",
    "    DeviceType \n",
    "FROM\n",
    "    wikipedia_dataset1;\n",
    "    \n",
    "INSERT INTO \"week2\"(\"WeekdayID\", \"Weekday\")\n",
    "SELECT DISTINCT \n",
    "    WeekdayID,\n",
    "    Weekday\n",
    "FROM\n",
    "    wikipedia_dataset1;\n",
    "    \n",
    "INSERT INTO \"month2\"(\"Month\", \"MonthName\")\n",
    "SELECT DISTINCT \n",
    "    Month,\n",
    "    MonthName\n",
    "FROM\n",
    "    wikipedia_dataset1;\n",
    "    \n",
    "INSERT INTO \"languages2\"(\"languageID\",\"LanguageName\", \"Notes\")\n",
    "SELECT \n",
    "    languageID,\n",
    "    LanguageName,\n",
    "    Notes\n",
    "FROM\n",
    "    languages1;"
   ]
  },
  {
   "cell_type": "code",
   "execution_count": 33,
   "id": "fb53ece2-500d-46d0-aebe-e7e1e045b5fb",
   "metadata": {},
   "outputs": [
    {
     "name": "stdout",
     "output_type": "stream",
     "text": [
      " * sqlite:///toarstn92_wikipedia.db\n",
      "Done.\n",
      "549000 rows affected.\n"
     ]
    },
    {
     "data": {
      "text/plain": [
       "[]"
      ]
     },
     "execution_count": 33,
     "metadata": {},
     "output_type": "execute_result"
    }
   ],
   "source": [
    "%%sql\n",
    "\n",
    "--DO NOT EDIT THIS CELL\n",
    "\n",
    "DELETE FROM \"wikipedia_dataset2\";\n",
    "\n",
    "INSERT INTO \"wikipedia_dataset2\" (\"Page\",\"Date\",\"Year\",\"Month\", \"DayOfMonth\",\"WeekdayID\", \"SearchTopicID\",\"languageID\",\"DeviceTypeID\",\"WebpageVisits\")\n",
    "SELECT\n",
    "     Page\n",
    "    ,Date\n",
    "    ,Year\n",
    "    ,wikipedia_dataset1.Month\n",
    "    ,DayOfMonth\n",
    "    ,wikipedia_dataset1.WeekdayID\n",
    "    ,SearchTopicID\n",
    "    ,languageID\n",
    "    ,DeviceTypeID\n",
    "    ,WebpageVisits \n",
    "FROM \n",
    "    wikipedia_dataset1\n",
    "LEFT JOIN month2 ON wikipedia_dataset1.Month = month2.Month\n",
    "LEFT JOIN week2 ON wikipedia_dataset1.WeekdayID = week2.WeekdayID\n",
    "LEFT JOIN SearchTopic2 ON wikipedia_dataset1.SearchTopic = SearchTopic2.SearchTopic\n",
    "LEFT JOIN DeviceType2 ON wikipedia_dataset1.DeviceType = DeviceType2.DeviceType;"
   ]
  },
  {
   "cell_type": "markdown",
   "id": "7a0e1846-2da4-4e3e-a590-f8a3389cee36",
   "metadata": {
    "tags": []
   },
   "source": [
    "## **Questions**\n",
    "\n",
    "Answers provided in Query output"
   ]
  },
  {
   "cell_type": "markdown",
   "id": "02fe3b67-7c83-42d5-82b0-106564cb5ecc",
   "metadata": {
    "jp-MarkdownHeadingCollapsed": true,
    "tags": []
   },
   "source": [
    "#### **1. what were some of the most trending search topics on Wikipedia on the following days? Using the provided dataset, can you show some evidence to support your answer? <br> <br>(a) New year's day <br>(b) November 8, 2016**"
   ]
  },
  {
   "cell_type": "code",
   "execution_count": 36,
   "id": "04286ef0-10fa-4610-bc21-85f8cab4ac55",
   "metadata": {},
   "outputs": [
    {
     "name": "stdout",
     "output_type": "stream",
     "text": [
      " * sqlite:///toarstn92_wikipedia.db\n",
      "Done.\n"
     ]
    },
    {
     "data": {
      "text/html": [
       "<table>\n",
       "    <tr>\n",
       "        <th>SearchTopic</th>\n",
       "        <th>TotalVisits</th>\n",
       "        <th>LanguageName</th>\n",
       "    </tr>\n",
       "    <tr>\n",
       "        <td>WikipÃ©dia:Accueil_principal</td>\n",
       "        <td>3025641</td>\n",
       "        <td>French</td>\n",
       "    </tr>\n",
       "    <tr>\n",
       "        <td>Ð—Ð°Ð³Ð»Ð°Ð²Ð½Ð°Ñ_ÑÑ‚Ñ€Ð°Ð½Ð¸Ñ†Ð°</td>\n",
       "        <td>2308527</td>\n",
       "        <td>Russian</td>\n",
       "    </tr>\n",
       "    <tr>\n",
       "        <td>Star_Wars:_The_Force_Awakens</td>\n",
       "        <td>475826</td>\n",
       "        <td>English</td>\n",
       "    </tr>\n",
       "    <tr>\n",
       "        <td>Ð¡Ð»ÑƒÐ¶ÐµÐ±Ð½Ð°Ñ:Ð¡ÑÑ‹Ð»ÐºÐ¸_ÑÑŽÐ´Ð°</td>\n",
       "        <td>320763</td>\n",
       "        <td>Russian</td>\n",
       "    </tr>\n",
       "    <tr>\n",
       "        <td>Star_Wars</td>\n",
       "        <td>212609</td>\n",
       "        <td>English</td>\n",
       "    </tr>\n",
       "    <tr>\n",
       "        <td>Deaths_in_2015</td>\n",
       "        <td>190967</td>\n",
       "        <td>English</td>\n",
       "    </tr>\n",
       "    <tr>\n",
       "        <td>List_of_highest-grossing_films</td>\n",
       "        <td>177008</td>\n",
       "        <td>English</td>\n",
       "    </tr>\n",
       "    <tr>\n",
       "        <td>Jenny_McCarthy</td>\n",
       "        <td>160498</td>\n",
       "        <td>English</td>\n",
       "    </tr>\n",
       "    <tr>\n",
       "        <td>2015_in_film</td>\n",
       "        <td>107751</td>\n",
       "        <td>English</td>\n",
       "    </tr>\n",
       "    <tr>\n",
       "        <td>Donald_Trump</td>\n",
       "        <td>105897</td>\n",
       "        <td>English</td>\n",
       "    </tr>\n",
       "</table>"
      ],
      "text/plain": [
       "[('WikipÃ©dia:Accueil_principal', 3025641, 'French'),\n",
       " ('Ð—Ð°Ð³Ð»Ð°Ð²Ð½Ð°Ñ\\x8f_Ñ\\x81Ñ‚Ñ€Ð°Ð½Ð¸Ñ†Ð°', 2308527, 'Russian'),\n",
       " ('Star_Wars:_The_Force_Awakens', 475826, 'English'),\n",
       " ('Ð¡Ð»ÑƒÐ¶ÐµÐ±Ð½Ð°Ñ\\x8f:Ð¡Ñ\\x81Ñ‹Ð»ÐºÐ¸_Ñ\\x81ÑŽÐ´Ð°', 320763, 'Russian'),\n",
       " ('Star_Wars', 212609, 'English'),\n",
       " ('Deaths_in_2015', 190967, 'English'),\n",
       " ('List_of_highest-grossing_films', 177008, 'English'),\n",
       " ('Jenny_McCarthy', 160498, 'English'),\n",
       " ('2015_in_film', 107751, 'English'),\n",
       " ('Donald_Trump', 105897, 'English')]"
      ]
     },
     "execution_count": 36,
     "metadata": {},
     "output_type": "execute_result"
    }
   ],
   "source": [
    "%%sql\n",
    "\n",
    "SELECT SearchTopic, sum(WebpageVisits) AS TotalVisits, LanguageName\n",
    "FROM wikipedia_dataset2\n",
    "LEFT JOIN SearchTopic2\n",
    "    USING (SearchTopicID)\n",
    "LEFT JOIN languages2\n",
    "    USING (languageID)\n",
    "WHERE \n",
    "    Date LIKE \"2016-01-01%\" -- New year's day\n",
    "    AND SearchTopic LIKE \"%\\_%\" ESCAPE \"\\\" -- SearchTopic observed to have at least one underscore in string\n",
    "    AND SearchTopic IS NOT \"Main_Page\"\n",
    "GROUP BY SearchTopic\n",
    "ORDER BY TotalVisits DESC\n",
    "LIMIT 10;"
   ]
  },
  {
   "cell_type": "code",
   "execution_count": 37,
   "id": "44e2c086-0bbd-4353-8bea-42d041292560",
   "metadata": {},
   "outputs": [
    {
     "name": "stdout",
     "output_type": "stream",
     "text": [
      " * sqlite:///toarstn92_wikipedia.db\n",
      "Done.\n"
     ]
    },
    {
     "data": {
      "text/html": [
       "<table>\n",
       "    <tr>\n",
       "        <th>SearchTopic</th>\n",
       "        <th>TotalVisits</th>\n",
       "        <th>LanguageName</th>\n",
       "    </tr>\n",
       "    <tr>\n",
       "        <td>WikipÃ©dia:Accueil_principal</td>\n",
       "        <td>2917745</td>\n",
       "        <td>French</td>\n",
       "    </tr>\n",
       "    <tr>\n",
       "        <td>Ð—Ð°Ð³Ð»Ð°Ð²Ð½Ð°Ñ_ÑÑ‚Ñ€Ð°Ð½Ð¸Ñ†Ð°</td>\n",
       "        <td>2746460</td>\n",
       "        <td>Russian</td>\n",
       "    </tr>\n",
       "    <tr>\n",
       "        <td>United_States_presidential_election,_2016</td>\n",
       "        <td>1519180</td>\n",
       "        <td>English</td>\n",
       "    </tr>\n",
       "    <tr>\n",
       "        <td>Donald_Trump</td>\n",
       "        <td>1287661</td>\n",
       "        <td>English</td>\n",
       "    </tr>\n",
       "    <tr>\n",
       "        <td>Elizabeth_II</td>\n",
       "        <td>555415</td>\n",
       "        <td>English</td>\n",
       "    </tr>\n",
       "    <tr>\n",
       "        <td>Hillary_Clinton</td>\n",
       "        <td>420278</td>\n",
       "        <td>English</td>\n",
       "    </tr>\n",
       "    <tr>\n",
       "        <td>Barack_Obama</td>\n",
       "        <td>406606</td>\n",
       "        <td>English</td>\n",
       "    </tr>\n",
       "    <tr>\n",
       "        <td>List_of_Presidents_of_the_United_States</td>\n",
       "        <td>330829</td>\n",
       "        <td>English</td>\n",
       "    </tr>\n",
       "    <tr>\n",
       "        <td>Melania_Trump</td>\n",
       "        <td>212363</td>\n",
       "        <td>English</td>\n",
       "    </tr>\n",
       "    <tr>\n",
       "        <td>Bill_Clinton</td>\n",
       "        <td>171476</td>\n",
       "        <td>English</td>\n",
       "    </tr>\n",
       "</table>"
      ],
      "text/plain": [
       "[('WikipÃ©dia:Accueil_principal', 2917745, 'French'),\n",
       " ('Ð—Ð°Ð³Ð»Ð°Ð²Ð½Ð°Ñ\\x8f_Ñ\\x81Ñ‚Ñ€Ð°Ð½Ð¸Ñ†Ð°', 2746460, 'Russian'),\n",
       " ('United_States_presidential_election,_2016', 1519180, 'English'),\n",
       " ('Donald_Trump', 1287661, 'English'),\n",
       " ('Elizabeth_II', 555415, 'English'),\n",
       " ('Hillary_Clinton', 420278, 'English'),\n",
       " ('Barack_Obama', 406606, 'English'),\n",
       " ('List_of_Presidents_of_the_United_States', 330829, 'English'),\n",
       " ('Melania_Trump', 212363, 'English'),\n",
       " ('Bill_Clinton', 171476, 'English')]"
      ]
     },
     "execution_count": 37,
     "metadata": {},
     "output_type": "execute_result"
    }
   ],
   "source": [
    "%%sql\n",
    "\n",
    "SELECT SearchTopic, sum(WebpageVisits) AS TotalVisits, LanguageName\n",
    "FROM wikipedia_dataset2\n",
    "LEFT JOIN SearchTopic2\n",
    "    USING (SearchTopicID)\n",
    "LEFT JOIN languages2\n",
    "    USING (languageID)\n",
    "WHERE \n",
    "    Date LIKE \"2016-11-08%\" -- November 8, 2016\n",
    "    AND SearchTopic LIKE \"%\\_%\" ESCAPE \"\\\"\n",
    "    AND SearchTopic IS NOT \"Main_Page\"\n",
    "GROUP BY SearchTopic\n",
    "ORDER BY TotalVisits DESC\n",
    "LIMIT 10;"
   ]
  },
  {
   "cell_type": "markdown",
   "id": "bb0dd5db-c6ef-4b4d-bfa2-f0feffc7aa07",
   "metadata": {
    "jp-MarkdownHeadingCollapsed": true,
    "tags": []
   },
   "source": [
    "#### **2. Which page experienced the biggest decline in page visits during 2016? <br> <br> 3. Which page experienced the biggest increase in page visits during 2016?**\n",
    "\n",
    "*- Assuming we are checking for daily change <br> - Querying for (all pages) AND (all pages excluding the wikipedia home page)*"
   ]
  },
  {
   "cell_type": "code",
   "execution_count": 61,
   "id": "3c12082b-5cb2-46f4-9664-d44d3108bd4e",
   "metadata": {},
   "outputs": [
    {
     "name": "stdout",
     "output_type": "stream",
     "text": [
      " * sqlite:///toarstn92_wikipedia.db\n",
      "Done.\n"
     ]
    },
    {
     "data": {
      "text/html": [
       "<table>\n",
       "    <tr>\n",
       "        <th>Scope</th>\n",
       "        <th>Status</th>\n",
       "        <th>Page</th>\n",
       "        <th>Date</th>\n",
       "        <th>WebpageVisits</th>\n",
       "        <th>previousDayVisits</th>\n",
       "        <th>DailyChange</th>\n",
       "        <th>RelativePercentChange</th>\n",
       "    </tr>\n",
       "    <tr>\n",
       "        <td>All pages</td>\n",
       "        <td>Biggest decline</td>\n",
       "        <td>Main_Page_en.wikipedia.org_desktop_all-agents</td>\n",
       "        <td>2016-08-17 00:00:00.000</td>\n",
       "        <td>20144431</td>\n",
       "        <td>51799435</td>\n",
       "        <td>-31655004</td>\n",
       "        <td>-61.11071</td>\n",
       "    </tr>\n",
       "    <tr>\n",
       "        <td>Excluding wiki main page</td>\n",
       "        <td>Biggest decline</td>\n",
       "        <td>Ð—Ð°Ð³Ð»Ð°Ð²Ð½Ð°Ñ_ÑÑ‚Ñ€Ð°Ð½Ð¸Ñ†Ð°_ru.wikipedia.org_all-access_all-agents</td>\n",
       "        <td>2016-08-17 00:00:00.000</td>\n",
       "        <td>1112458</td>\n",
       "        <td>14396070</td>\n",
       "        <td>-13283612</td>\n",
       "        <td>-92.27249</td>\n",
       "    </tr>\n",
       "    <tr>\n",
       "        <td>All pages</td>\n",
       "        <td>Biggest increase</td>\n",
       "        <td>Main_Page_en.wikipedia.org_desktop_all-agents</td>\n",
       "        <td>2016-07-21 00:00:00.000</td>\n",
       "        <td>46255825</td>\n",
       "        <td>29040989</td>\n",
       "        <td>17214836</td>\n",
       "        <td>59.27772</td>\n",
       "    </tr>\n",
       "    <tr>\n",
       "        <td>Excluding wiki main page</td>\n",
       "        <td>Biggest increase</td>\n",
       "        <td>Special:Search_en.wikipedia.org_all-access_all-agents</td>\n",
       "        <td>2016-07-06 00:00:00.000</td>\n",
       "        <td>16991932</td>\n",
       "        <td>6437422</td>\n",
       "        <td>10554510</td>\n",
       "        <td>163.95554</td>\n",
       "    </tr>\n",
       "</table>"
      ],
      "text/plain": [
       "[('All pages', 'Biggest decline', 'Main_Page_en.wikipedia.org_desktop_all-agents', '2016-08-17 00:00:00.000', 20144431, 51799435, -31655004, -61.11071),\n",
       " ('Excluding wiki main page', 'Biggest decline', 'Ð—Ð°Ð³Ð»Ð°Ð²Ð½Ð°Ñ\\x8f_Ñ\\x81Ñ‚Ñ€Ð°Ð½Ð¸Ñ†Ð°_ru.wikipedia.org_all-access_all-agents', '2016-08-17 00:00:00.000', 1112458, 14396070, -13283612, -92.27249),\n",
       " ('All pages', 'Biggest increase', 'Main_Page_en.wikipedia.org_desktop_all-agents', '2016-07-21 00:00:00.000', 46255825, 29040989, 17214836, 59.27772),\n",
       " ('Excluding wiki main page', 'Biggest increase', 'Special:Search_en.wikipedia.org_all-access_all-agents', '2016-07-06 00:00:00.000', 16991932, 6437422, 10554510, 163.95554)]"
      ]
     },
     "execution_count": 61,
     "metadata": {},
     "output_type": "execute_result"
    }
   ],
   "source": [
    "%%sql\n",
    "\n",
    "WITH DailyVisitsLag AS (\n",
    "    SELECT\n",
    "        *,\n",
    "        LAG(WebpageVisits) OVER(PARTITION BY Page ORDER BY date) AS PreviousDayVisits\n",
    "    FROM wikipedia_dataset2),\n",
    "\n",
    "    DailyPercentChange1 AS (\n",
    "    SELECT Page, Date, WebpageVisits, previousDayVisits,\n",
    "        COALESCE((WebpageVisits-previousDayVisits),0) AS DailyChange,\n",
    "        COALESCE(ROUND((CAST((WebpageVisits-previousDayVisits) AS REAL)/previousDayVisits*100),5),0) AS RelativePercentChange\n",
    "    FROM DailyVisitsLag),\n",
    "    \n",
    "    DailyPercentChange2 AS (\n",
    "    SELECT Page, Date, WebpageVisits, previousDayVisits,\n",
    "        COALESCE((WebpageVisits-previousDayVisits),0) AS DailyChange,\n",
    "        COALESCE(ROUND((CAST((WebpageVisits-previousDayVisits) AS REAL)/previousDayVisits*100),5),0) AS RelativePercentChange\n",
    "    FROM DailyVisitsLag\n",
    "    WHERE Page NOT LIKE \"Main_Page%\")\n",
    "\n",
    "SELECT \"All pages\" AS Scope, \"Biggest decline\" AS Status, *\n",
    "FROM DailyPercentChange1\n",
    "WHERE DailyChange\n",
    "    IN (SELECT MIN(DailyChange)\n",
    "        FROM DailyPercentChange1)\n",
    "\n",
    "UNION\n",
    "\n",
    "SELECT \"Excluding wiki main page\" AS Scope, \"Biggest decline\" AS Status, *\n",
    "FROM DailyPercentChange2\n",
    "WHERE DailyChange\n",
    "    IN (SELECT MIN(DailyChange)\n",
    "        FROM DailyPercentChange2)\n",
    "\n",
    "UNION\n",
    "\n",
    "SELECT \"All pages\" AS Scope, \"Biggest increase\" AS Status, *\n",
    "FROM DailyPercentChange1\n",
    "WHERE DailyChange\n",
    "    IN (SELECT MAX(DailyChange)\n",
    "        FROM DailyPercentChange1)\n",
    "\n",
    "UNION\n",
    "\n",
    "SELECT \"Excluding wiki main page\" AS Scope, \"Biggest increase\" AS Status, *\n",
    "FROM DailyPercentChange2\n",
    "WHERE DailyChange\n",
    "    IN (SELECT MAX(DailyChange)\n",
    "        FROM DailyPercentChange2)\n",
    "\n",
    "ORDER BY Status;"
   ]
  },
  {
   "cell_type": "markdown",
   "id": "322346e0-71a7-43fc-b3ba-49b6a3624782",
   "metadata": {
    "jp-MarkdownHeadingCollapsed": true,
    "tags": []
   },
   "source": [
    "#### **4. Wikipedia pages could be written in several languages. How many languages are represented in this dataset? What proportion of the pages does each language represent?**\n",
    "*Hint: One may infer which language a page is written in based on the page name e.g. <br> Special:Search_fr.wikipedia.org_all-access_all-agents is written in French and <br> Special:Book_en.wikipedia.org_all-access_spider is written in English.*"
   ]
  },
  {
   "cell_type": "code",
   "execution_count": 215,
   "id": "bc79f59b-08d3-4602-a3d2-6bb9d0ec338b",
   "metadata": {},
   "outputs": [
    {
     "name": "stdout",
     "output_type": "stream",
     "text": [
      " * sqlite:///toarstn92_wikipedia.db\n",
      "Done.\n"
     ]
    },
    {
     "data": {
      "text/html": [
       "<table>\n",
       "    <tr>\n",
       "        <th>LanguageName</th>\n",
       "        <th>Count</th>\n",
       "        <th>Proportion</th>\n",
       "    </tr>\n",
       "    <tr>\n",
       "        <td>English</td>\n",
       "        <td>418338</td>\n",
       "        <td>0.762</td>\n",
       "    </tr>\n",
       "    <tr>\n",
       "        <td>Japanese</td>\n",
       "        <td>44286</td>\n",
       "        <td>0.08066666666666666</td>\n",
       "    </tr>\n",
       "    <tr>\n",
       "        <td>Spanish, Castilian</td>\n",
       "        <td>28914</td>\n",
       "        <td>0.05266666666666667</td>\n",
       "    </tr>\n",
       "    <tr>\n",
       "        <td>German</td>\n",
       "        <td>14274</td>\n",
       "        <td>0.026</td>\n",
       "    </tr>\n",
       "    <tr>\n",
       "        <td>Russian</td>\n",
       "        <td>13176</td>\n",
       "        <td>0.024</td>\n",
       "    </tr>\n",
       "    <tr>\n",
       "        <td>French</td>\n",
       "        <td>12444</td>\n",
       "        <td>0.02266666666666667</td>\n",
       "    </tr>\n",
       "    <tr>\n",
       "        <td>Chinese</td>\n",
       "        <td>11346</td>\n",
       "        <td>0.020666666666666667</td>\n",
       "    </tr>\n",
       "    <tr>\n",
       "        <td>None</td>\n",
       "        <td>6222</td>\n",
       "        <td>0.011333333333333334</td>\n",
       "    </tr>\n",
       "</table>"
      ],
      "text/plain": [
       "[('English', 418338, 0.762),\n",
       " ('Japanese', 44286, 0.08066666666666666),\n",
       " ('Spanish, Castilian', 28914, 0.05266666666666667),\n",
       " ('German', 14274, 0.026),\n",
       " ('Russian', 13176, 0.024),\n",
       " ('French', 12444, 0.02266666666666667),\n",
       " ('Chinese', 11346, 0.020666666666666667),\n",
       " (None, 6222, 0.011333333333333334)]"
      ]
     },
     "execution_count": 215,
     "metadata": {},
     "output_type": "execute_result"
    }
   ],
   "source": [
    "%%sql\n",
    "\n",
    "-- a subset of the pages are from wikimedia, mediawiki and have no deducible language (NULL)\n",
    "\n",
    "WITH LanguageGroup AS (\n",
    "    SELECT DISTINCT LanguageName, COUNT(*) AS Count, 549000 AS Total\n",
    "    FROM wikipedia_dataset2\n",
    "    LEFT JOIN languages2\n",
    "        USING (languageID)\n",
    "    GROUP BY LanguageName)\n",
    "\n",
    "SELECT LanguageName, Count, CAST(Count AS REAL)/TOTAL AS Proportion\n",
    "FROM LanguageGroup\n",
    "ORDER BY Count DESC;"
   ]
  },
  {
   "cell_type": "code",
   "execution_count": 193,
   "id": "7c980822-3d0b-4ff0-90f4-d290d6100d83",
   "metadata": {},
   "outputs": [
    {
     "data": {
      "text/plain": [
       "<AxesSubplot:title={'center':'Language Proportion of page visits'}, ylabel='LanguageName'>"
      ]
     },
     "execution_count": 193,
     "metadata": {},
     "output_type": "execute_result"
    },
    {
     "data": {
      "image/png": "[encoded data removed]",
      "text/plain": [
       "<Figure size 720x432 with 1 Axes>"
      ]
     },
     "metadata": {
      "needs_background": "light"
     },
     "output_type": "display_data"
    }
   ],
   "source": [
    "# convert query output to pandas dataframe and plot bar chart\n",
    "\n",
    "dat = sqlite3.connect('toarstn92_wikipedia.db')\n",
    "query = dat.execute(\"WITH LanguageGroup AS (SELECT DISTINCT LanguageName, COUNT(*) AS Count, 549000 AS Total FROM wikipedia_dataset2 LEFT JOIN languages2 USING (languageID) GROUP BY LanguageName) SELECT LanguageName, CAST(Count AS REAL)/TOTAL AS Proportion FROM LanguageGroup ORDER BY Proportion\")\n",
    "cols = [column[0] for column in query.description]\n",
    "ProportionTable = pd.DataFrame.from_records(data = query.fetchall(), columns = cols)\n",
    "ProportionTable['PercentProportion'] = (ProportionTable['Proportion'] / ProportionTable['Proportion'].sum()) * 100\n",
    "ProportionTable.plot.barh(x='LanguageName', y='PercentProportion', figsize=(10, 6), title='Language Proportion of page visits', grid=True)"
   ]
  },
  {
   "cell_type": "markdown",
   "id": "ccbdfb6b-d840-433b-bffc-56f3d1f1b2b3",
   "metadata": {
    "jp-MarkdownHeadingCollapsed": true,
    "tags": []
   },
   "source": [
    "#### **5. Based on the provided dataset, which day(s) of the week is/are the most popular for visiting wikipedia? <br> <br> 6. Based on the provided dataset, which day(s) of the week is/are the least popular for visiting wikipedia?**"
   ]
  },
  {
   "cell_type": "code",
   "execution_count": 163,
   "id": "ba44cc8c-af87-4b5a-a14e-b4a2c221e8fc",
   "metadata": {},
   "outputs": [
    {
     "name": "stdout",
     "output_type": "stream",
     "text": [
      " * sqlite:///toarstn92_wikipedia.db\n",
      "Done.\n"
     ]
    },
    {
     "data": {
      "text/html": [
       "<table>\n",
       "    <tr>\n",
       "        <th>Popularity</th>\n",
       "        <th>Weekday</th>\n",
       "        <th>TotalVisits</th>\n",
       "    </tr>\n",
       "    <tr>\n",
       "        <td>Most Popular</td>\n",
       "        <td>Monday</td>\n",
       "        <td>4904874589</td>\n",
       "    </tr>\n",
       "    <tr>\n",
       "        <td>Least Popular</td>\n",
       "        <td>Friday</td>\n",
       "        <td>4409637606</td>\n",
       "    </tr>\n",
       "</table>"
      ],
      "text/plain": [
       "[('Most Popular', 'Monday', 4904874589),\n",
       " ('Least Popular', 'Friday', 4409637606)]"
      ]
     },
     "execution_count": 163,
     "metadata": {},
     "output_type": "execute_result"
    }
   ],
   "source": [
    "%%sql\n",
    "\n",
    "WITH VisitsPerWeek AS (\n",
    "    SELECT Weekday, SUM(WebpageVisits) AS TotalVisits\n",
    "    FROM wikipedia_dataset2\n",
    "    LEFT JOIN week2\n",
    "        USING (weekdayID)\n",
    "    GROUP BY Weekday)\n",
    "\n",
    "SELECT \"Most Popular\" AS Popularity, *\n",
    "FROM VisitsPerWeek\n",
    "WHERE TotalVisits IN\n",
    "    (SELECT MAX(TotalVisits)\n",
    "     FROM VisitsPerWeek)\n",
    "    \n",
    "UNION\n",
    "\n",
    "SELECT \"Least Popular\" AS Popularity, *\n",
    "FROM VisitsPerWeek\n",
    "WHERE TotalVisits IN\n",
    "    (SELECT MIN(TotalVisits)\n",
    "     FROM VisitsPerWeek)\n",
    "\n",
    "ORDER BY Popularity DESC;"
   ]
  },
  {
   "cell_type": "code",
   "execution_count": 214,
   "id": "d7962b08-61d0-4f10-852d-304502674b0b",
   "metadata": {},
   "outputs": [
    {
     "data": {
      "text/plain": [
       "<AxesSubplot:title={'center':'Web Visits per weekday'}, ylabel='Weekday'>"
      ]
     },
     "execution_count": 214,
     "metadata": {},
     "output_type": "execute_result"
    },
    {
     "data": {
      "image/png": "[encoded data removed]",
      "text/plain": [
       "<Figure size 720x432 with 1 Axes>"
      ]
     },
     "metadata": {
      "needs_background": "light"
     },
     "output_type": "display_data"
    }
   ],
   "source": [
    "# convert query output to pandas dataframe and plot bar chart\n",
    "\n",
    "dat = sqlite3.connect('toarstn92_wikipedia.db')\n",
    "query2 = dat.execute(\"SELECT Weekday, SUM(WebpageVisits) AS TotalVisits FROM wikipedia_dataset2 LEFT JOIN week2 USING (weekdayID) GROUP BY Weekday ORDER BY WeekdayID DESC\")\n",
    "cols2 = [column[0] for column in query2.description]\n",
    "VisitsPerWeekTable = pd.DataFrame.from_records(data = query2.fetchall(), columns = cols2)\n",
    "VisitsPerWeekTable.plot.barh(x='Weekday', y='TotalVisits', figsize=(10, 6), title='Web Visits per weekday', grid=True)"
   ]
  },
  {
   "cell_type": "markdown",
   "id": "b984deba-a900-4454-8b74-90666dd18fe7",
   "metadata": {
    "jp-MarkdownHeadingCollapsed": true,
    "tags": []
   },
   "source": [
    "#### **7. Based on the dataset provided, which device type is used more frequently for visiting wikipedia i.e. desktop or mobile devices?**\n",
    "*Hint: For some of the pages in the dataset, it is possible to distinguish whether the visits to the page came from a desktop or a mobile device. For example, consider Barack Obama's wikipedia page:\n",
    "<br> Barack_Obama_en.wikipedia.org_desktop_all-agents : these visits came from desktop devices.\n",
    "<br> Barack_Obama_en.wikipedia.org_mobile-web_all-agents: these visits came from mobile devices.*"
   ]
  },
  {
   "cell_type": "code",
   "execution_count": 205,
   "id": "79d4e1c6-5886-4fb9-bdc5-35a2d06f645a",
   "metadata": {},
   "outputs": [
    {
     "name": "stdout",
     "output_type": "stream",
     "text": [
      " * sqlite:///toarstn92_wikipedia.db\n",
      "Done.\n"
     ]
    },
    {
     "data": {
      "text/html": [
       "<table>\n",
       "    <tr>\n",
       "        <th>DeviceType2</th>\n",
       "        <th>VisitCount</th>\n",
       "    </tr>\n",
       "    <tr>\n",
       "        <td>All Access</td>\n",
       "        <td>341478</td>\n",
       "    </tr>\n",
       "    <tr>\n",
       "        <td>Mobile Devices</td>\n",
       "        <td>108336</td>\n",
       "    </tr>\n",
       "    <tr>\n",
       "        <td>Desktop Devices</td>\n",
       "        <td>99186</td>\n",
       "    </tr>\n",
       "</table>"
      ],
      "text/plain": [
       "[('All Access', 341478),\n",
       " ('Mobile Devices', 108336),\n",
       " ('Desktop Devices', 99186)]"
      ]
     },
     "execution_count": 205,
     "metadata": {},
     "output_type": "execute_result"
    }
   ],
   "source": [
    "%%sql\n",
    "\n",
    "WITH DeviceTypeCTE AS (\n",
    "    SELECT *,\n",
    "        CASE\n",
    "            WHEN Page LIKE \"%desktop%\" THEN \"Desktop Devices\"\n",
    "            WHEN Page LIKE \"%mobile%\" THEN \"Mobile Devices\"\n",
    "            ELSE \"All Access\"\n",
    "        END AS DeviceType2\n",
    "    FROM wikipedia_dataset2)\n",
    "\n",
    "SELECT DISTINCT DeviceType2, COUNT(*) AS VisitCount\n",
    "FROM DeviceTypeCTE\n",
    "GROUP BY DeviceType2\n",
    "ORDER BY VisitCount DESC;"
   ]
  },
  {
   "cell_type": "code",
   "execution_count": 249,
   "id": "c19f1467-075c-4e86-be97-6e3d5d8df699",
   "metadata": {},
   "outputs": [
    {
     "data": {
      "text/plain": [
       "<AxesSubplot:title={'center':'Web Visits per device type'}, ylabel='PercentVisitCount'>"
      ]
     },
     "execution_count": 249,
     "metadata": {},
     "output_type": "execute_result"
    },
    {
     "data": {
      "image/png": "[encoded data removed]",
      "text/plain": [
       "<Figure size 432x432 with 1 Axes>"
      ]
     },
     "metadata": {},
     "output_type": "display_data"
    }
   ],
   "source": [
    "# convert query output to pandas dataframe and plot bar chart\n",
    "\n",
    "dat = sqlite3.connect('toarstn92_wikipedia.db')\n",
    "query3 = dat.execute('WITH DeviceTypeCTE AS (SELECT *, CASE WHEN Page LIKE \"%desktop%\" THEN \"Desktop Devices\" WHEN Page LIKE \"%mobile%\" THEN \"Mobile Devices\" ELSE \"All Access\" END AS DeviceType2 FROM wikipedia_dataset2) SELECT DISTINCT DeviceType2, COUNT(*) AS VisitCount FROM DeviceTypeCTE GROUP BY DeviceType2')\n",
    "cols3 = [column[0] for column in query3.description]\n",
    "DeviceTypeProportion = pd.DataFrame.from_records(data = query3.fetchall(), columns = cols3)\n",
    "DeviceTypeProportion['PercentVisitCount'] = (DeviceTypeProportion['VisitCount'] / DeviceTypeProportion['VisitCount'].sum()) * 100\n",
    "DeviceTypeProportion.groupby(['DeviceType2']).sum().plot(kind='pie', y='PercentVisitCount', autopct='%1.0f%%', colors=['lightgrey', 'yellow', 'green'], explode = (0.03, 0.05, 0.05), shadow=True, figsize=(6,6), title='Web Visits per device type')"
   ]
  }
 ],
 "metadata": {
  "kernelspec": {
   "display_name": "Python 3 (ipykernel)",
   "language": "python",
   "name": "python3"
  },
  "language_info": {
   "codemirror_mode": {
    "name": "ipython",
    "version": 3
   },
   "file_extension": ".py",
   "mimetype": "text/x-python",
   "name": "python",
   "nbconvert_exporter": "python",
   "pygments_lexer": "ipython3",
   "version": "3.9.7"
  }
 },
 "nbformat": 4,
 "nbformat_minor": 5
}
